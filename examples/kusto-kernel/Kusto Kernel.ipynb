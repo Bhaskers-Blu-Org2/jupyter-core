{
 "cells": [
  {
   "cell_type": "code",
   "execution_count": 1,
   "metadata": {},
   "outputs": [
    {
     "data": {
      "text/plain": [
       "Connected!"
      ]
     },
     "execution_count": 1,
     "metadata": {},
     "output_type": "execute_result"
    }
   ],
   "source": [
    "%connect https://help.kusto.windows.net;Database=Samples"
   ]
  },
  {
   "cell_type": "code",
   "execution_count": 2,
   "metadata": {},
   "outputs": [
    {
     "data": {
      "text/html": [
       "<ul><li>%connect https://help.kusto.windows.net;Database=Samples</li>\n",
       "<li>%history</li></ul>"
      ],
      "text/plain": [
       "%connect https://help.kusto.windows.net;Database=Samples\n",
       "%history"
      ]
     },
     "execution_count": 2,
     "metadata": {},
     "output_type": "execute_result"
    }
   ],
   "source": [
    "%history"
   ]
  },
  {
   "cell_type": "code",
   "execution_count": 3,
   "metadata": {
    "scrolled": false
   },
   "outputs": [
    {
     "name": "stderr",
     "output_type": "stream",
     "text": [
      "[0]Kusto.Data.Exceptions.KustoRequestDeniedException: Forbidden (403-Forbidden): Forbidden: Caller is not authorized to perform this action\r\n",
      "Principal 'AAD app id=8119016e-9352-40ca-99a0-28100430ecb6' is not authorized to access database 'Samples'.\r\n",
      "Please provide the following information when contacting the Kusto team:\r\n",
      "ClientRequestId='KD2RunQuery;312abb31-adf8-448b-85d8-7187830130ff', ActivityId='e62aa79a-d8ed-46fa-9308-7fbabf8d435a', Timestamp='2018-11-15T15:23:56.3584937Z'.. This normally represents a permanent error, and retrying is unlikely to help.\r\n",
      "Please provide the following information when contacting the Kusto team @ https://aka.ms/kustosupport :\r\n",
      "DataSource='https://help.kusto.windows.net/v1/rest/query',\r\n",
      "DatabaseName='Samples',\r\n",
      "ClientRequestId='KD2RunQuery;312abb31-adf8-448b-85d8-7187830130ff',\r\n",
      "ActivityId='e62aa79a-d8ed-46fa-9308-7fbabf8d435a,\r\n",
      "Timestamp='2018-11-15T15:23:56.5222986Z'.\r\n",
      "Timestamp=2018-11-15T15:23:56.5222986Z\r\n",
      "ClientRequestId=KD2RunQuery;312abb31-adf8-448b-85d8-7187830130ff\r\n",
      "ActivityId=c2728dce-cc0c-4228-93a2-24432f7079b1\r\n",
      "ActivityType=DN-RestClient-ExecuteControlCommand\r\n",
      "MachineName=DESKTOP-HO98B82\r\n",
      "ProcessName=dotnet\r\n",
      "ProcessId=40548\r\n",
      "ThreadId=56836\r\n",
      "AppDomainName=kusto-kernel\r\n",
      "ActivityStack=(Activity stack: CRID=KD2RunQuery;312abb31-adf8-448b-85d8-7187830130ff ARID=c2728dce-cc0c-4228-93a2-24432f7079b1 > DN-RestClient-ExecuteControlCommand/c2728dce-cc0c-4228-93a2-24432f7079b1)\r\n",
      "MonitoredActivityContext=ActivityType=DN-RestClient-ExecuteControlCommand, Timestamp=2018-11-15T15:23:55.4166185Z, ParentActivityId=c2728dce-cc0c-4228-93a2-24432f7079b1, TimeSinceStarted=1105.7074 [ms]\r\n",
      "\r\n",
      "ErrorCode=403-Forbidden\r\n",
      "ErrorReason=Forbidden\r\n",
      "ErrorMessage=Forbidden: Caller is not authorized to perform this action\r\n",
      "Principal 'AAD app id=8119016e-9352-40ca-99a0-28100430ecb6' is not authorized to access database 'Samples'.\r\n",
      "Please provide the following information when contacting the Kusto team:\r\n",
      "ClientRequestId='KD2RunQuery;312abb31-adf8-448b-85d8-7187830130ff', ActivityId='e62aa79a-d8ed-46fa-9308-7fbabf8d435a', Timestamp='2018-11-15T15:23:56.3584937Z'.\r\n",
      "DataSource=https://help.kusto.windows.net/v1/rest/query\r\n",
      "DatabaseName=Samples\r\n",
      "ClientRequestId=KD2RunQuery;312abb31-adf8-448b-85d8-7187830130ff\r\n",
      "ActivityId=e62aa79a-d8ed-46fa-9308-7fbabf8d435a\r\n",
      "   at Kusto.Data.Net.Client.RestClient2.ThrowKustoExceptionFromResponseMessageAsync(KustoExceptionContext exceptionContext, HttpResponseMessage responseMessage, ClientRequestProperties properties, Boolean shouldBuffer)\r\n",
      "   at Kusto.Data.Net.Client.RestClient2.MakeHttpRequestAsyncImpl(String address, String csl, String ns, String databaseName, Boolean streaming, ClientRequestProperties properties, ServiceModelTimeoutKind timeoutKind, String clientRequestId, Stream body, Boolean compressStream, Boolean leaveRequestStreamOpen)\r\n",
      "   at Kusto.Cloud.Platform.Utils.MonitoredActivity.InvokeAsync[TActivityType,TResult](TActivityType activityType, Func`1 func, String clientRequestId)\r\n",
      "   at Kusto.Cloud.Platform.Utils.MonitoredActivity.InvokeAsync[TActivityType,TResult](TActivityType activityType, Func`1 func, String clientRequestId)\r\n",
      "   at Kusto.Data.Net.Client.RestClient2.MakeHttpRequestAsync(String baseAddress, String relativeAddress, String clientRequestIdPrefix, String ns, String databaseName, String csl, String addr, Boolean streaming, ClientRequestProperties properties, ServiceModelTimeoutKind timeoutKind)\r\n",
      "   at Kusto.Data.Net.Client.RestClient2.ExecuteQueryAsync(String databaseName, String query, ClientRequestProperties properties)\r\n",
      "   at Kusto.Data.Net.Client.RestClient2.ExecuteQuery(String query)\r\n",
      "   at Microsoft.Jupyter.Core.KustoEngine.ExecuteQuery(String input, Action`1 stdout, Action`1 stderr) in C:\\Users\\chgranad.REDMOND\\Source\\Repos\\Solid\\src\\jupyter\\kusto-kernel\\KustoEngine.cs:line 109"
     ]
    }
   ],
   "source": [
    "StormEvents | take 10"
   ]
  },
  {
   "cell_type": "code",
   "execution_count": null,
   "metadata": {
    "collapsed": true
   },
   "outputs": [],
   "source": []
  }
 ],
 "metadata": {
  "kernelspec": {
   "display_name": "Kusto",
   "language": "kusto",
   "name": "ikusto"
  },
  "language_info": {
   "file_extension": ".qs",
   "mimetype": "text/plain",
   "name": "Q#",
   "version": "1.0"
  }
 },
 "nbformat": 4,
 "nbformat_minor": 2
}
