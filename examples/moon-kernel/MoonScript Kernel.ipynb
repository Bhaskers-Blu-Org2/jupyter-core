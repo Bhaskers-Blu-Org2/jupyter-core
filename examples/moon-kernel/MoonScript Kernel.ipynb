{
 "cells": [
  {
   "cell_type": "code",
   "execution_count": 1,
   "metadata": {},
   "outputs": [
    {
     "data": {
      "text/plain": [
       "4"
      ]
     },
     "execution_count": 1,
     "metadata": {},
     "output_type": "execute_result"
    }
   ],
   "source": [
    "return 1 + 3"
   ]
  },
  {
   "cell_type": "code",
   "execution_count": 2,
   "metadata": {},
   "outputs": [
    {
     "data": {
      "text/plain": [
       "120"
      ]
     },
     "execution_count": 2,
     "metadata": {},
     "output_type": "execute_result"
    }
   ],
   "source": [
    "-- defines a factorial function\n",
    "    function fact (n)\n",
    "        if (n == 0) then\n",
    "            return 1\n",
    "        else\n",
    "            return n*fact(n - 1)\n",
    "        end\n",
    "    end\n",
    "\n",
    "    return fact(5)"
   ]
  },
  {
   "cell_type": "code",
   "execution_count": 3,
   "metadata": {},
   "outputs": [
    {
     "data": {
      "text/plain": [
       "function: 00000099"
      ]
     },
     "execution_count": 3,
     "metadata": {},
     "output_type": "execute_result"
    }
   ],
   "source": [
    "return fact"
   ]
  },
  {
   "cell_type": "code",
   "execution_count": 4,
   "metadata": {},
   "outputs": [
    {
     "data": {
      "text/html": [
       "<ul><li>return 1 + 3</li>\n",
       "<li>-- defines a factorial function\n",
       "    function fact (n)\n",
       "        if (n == 0) then\n",
       "            return 1\n",
       "        else\n",
       "            return n*fact(n - 1)\n",
       "        end\n",
       "    end\n",
       "\n",
       "    return fact(5)</li>\n",
       "<li>return fact</li>\n",
       "<li>%history</li></ul>"
      ],
      "text/plain": [
       "return 1 + 3\n",
       "-- defines a factorial function\n",
       "    function fact (n)\n",
       "        if (n == 0) then\n",
       "            return 1\n",
       "        else\n",
       "            return n*fact(n - 1)\n",
       "        end\n",
       "    end\n",
       "\n",
       "    return fact(5)\n",
       "return fact\n",
       "%history"
      ]
     },
     "execution_count": 4,
     "metadata": {},
     "output_type": "execute_result"
    }
   ],
   "source": [
    "%history"
   ]
  },
  {
   "cell_type": "code",
   "execution_count": 5,
   "metadata": {},
   "outputs": [
    {
     "data": {
      "text/plain": [
       "720"
      ]
     },
     "execution_count": 5,
     "metadata": {},
     "output_type": "execute_result"
    }
   ],
   "source": [
    "return fact(6)"
   ]
  },
  {
   "cell_type": "code",
   "execution_count": 6,
   "metadata": {},
   "outputs": [
    {
     "name": "stdout",
     "output_type": "stream",
     "text": [
      "Hello, world"
     ]
    }
   ],
   "source": [
    "print('Hello, world')"
   ]
  }
 ],
 "metadata": {
  "kernelspec": {
   "display_name": "imoon",
   "language": "Lua",
   "name": "imoon"
  },
  "language_info": {
   "file_extension": ".lua",
   "mimetype": "text/plain",
   "name": "Lua",
   "version": "0.1"
  }
 },
 "nbformat": 4,
 "nbformat_minor": 2
}
